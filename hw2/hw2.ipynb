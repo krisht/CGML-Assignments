{
 "cells": [
  {
   "cell_type": "markdown",
   "metadata": {},
   "source": [
    "# Binary Neural Network Classification with Multi-layer Perceptrons\n",
    "## Krishna Thiyagarajan\n",
    "## ECE - 411 - Computational Graphs for Machine Learning\n",
    "## Professor Chris Curro\n",
    "## Homework Assignment #2\n",
    "## February 6, 2017"
   ]
  },
  {
   "cell_type": "code",
   "execution_count": 1,
   "metadata": {
    "collapsed": true
   },
   "outputs": [],
   "source": [
    "import warnings\n",
    "\n",
    "import matplotlib.pyplot as plt\n",
    "import numpy as np\n",
    "import tensorflow as tf\n",
    "\n",
    "warnings.filterwarnings('ignore')\n",
    "\n",
    "# Hyper Parameters\n",
    "\n",
    "rateLearn = 1e-3\n",
    "runs = 200\n",
    "regConst = 1e-5\n",
    "displaySteps = 20\n",
    "\n",
    "noiseSigma = 0.1\n",
    "\n",
    "totalSamples = 1000\n",
    "percentTrain = 0.75\n",
    "\n",
    "numSamp = totalSamples * percentTrain\n",
    "numTest = totalSamples*(1 - percentTrain)\n",
    "\n",
    "layers = [2, 20, 40, 20, 2]"
   ]
  },
  {
   "cell_type": "code",
   "execution_count": null,
   "metadata": {
    "collapsed": false
   },
   "outputs": [],
   "source": [
    "\n",
    "# Data generation function\n",
    "\n",
    "def data(n):\n",
    "    t = np.random.uniform(low = 0.0, high = 2* np.pi, size=n)\n",
    "    c = np.random.randint(0, high=2, size=n)\n",
    "    x = t * np.cos(t + c * np.pi) + np.random.normal(0, noiseSigma, n)\n",
    "    y = t * np.sin(t + c * np.pi) + np.random.normal(0, noiseSigma, n)\n",
    "    return x, y, c\n",
    "\n",
    "# Function to help declaring variables in model\n",
    "\n",
    "def defVar(shape, name):\n",
    "    var = tf.get_variable(name=name,\n",
    "                          dtype=tf.float32,\n",
    "                          shape=shape,\n",
    "                          initializer=tf.random_normal_initializer())\n",
    "    tf.add_to_collection('modelVars', var)\n",
    "    tf.add_to_collection('l2', tf.reduce_sum(tf.square(var)))\n",
    "    return var\n",
    "\n",
    "\n",
    "# Multi-layer perceptron model with variable layers and neurons\n",
    "\n",
    "class MultiLayerPercepModel:\n",
    "    def __init__(self, sess, layers, iterations, learnRate, gamma):\n",
    "        self.sess = sess\n",
    "        self.iterations = iterations\n",
    "        self.learnRate = learnRate\n",
    "        self.gamma = gamma\n",
    "        self.layers = layers\n",
    "        self.buildModel()\n",
    "\n",
    "    # Build yhat and loss function\n",
    "\n",
    "    def buildModel(self):\n",
    "        self.x = tf.placeholder(tf.float32, [None, self.layers[0]])\n",
    "        self.y = tf.placeholder(tf.float32, [None, self.layers[-1]])\n",
    "\n",
    "        self.weights = {}\n",
    "        self.biases = {}\n",
    "\n",
    "        for ii in range(0, len(self.layers) - 1):\n",
    "            self.weights[ii] = defVar(name='w%d' % ii, shape=[self.layers[ii], self.layers[ii + 1]])\n",
    "            self.biases[ii] = defVar(name='b%d' % ii, shape=[self.layers[ii + 1]])\n",
    "\n",
    "        self.yhat = tf.nn.relu(tf.add(tf.matmul(self.x, self.weights[0]), self.biases[0]))\n",
    "\n",
    "        for ii in range(1, len(self.layers) - 1):\n",
    "            self.yhat = tf.nn.relu(tf.add(tf.matmul(self.yhat, self.weights[ii]), self.biases[ii]))\n",
    "\n",
    "        self.yhat = tf.nn.softmax(self.yhat)\n",
    "\n",
    "        self.costs = tf.reduce_mean(tf.nn.softmax_cross_entropy_with_logits(logits=self.yhat, labels=self.y))\n",
    "        self.l2_penalty = tf.reduce_sum(tf.get_collection('l2'))\n",
    "        self.loss = self.costs + self.gamma * self.l2_penalty\n",
    "\n",
    "    def initTrainer(self):\n",
    "        modelVars = tf.get_collection('modelVars')\n",
    "        self.optim = (tf.train.AdamOptimizer(learning_rate=self.learnRate).minimize(self.loss, var_list=modelVars))\n",
    "        self.sess.run(tf.global_variables_initializer())\n",
    "\n",
    "    def iterateTrainer(self, x, y):\n",
    "        _, loss = self.sess.run([self.optim, self.loss], feed_dict={self.x: np.transpose(np.asarray(x)), self.y: y})\n",
    "        return loss\n",
    "\n",
    "    def train(self, x_samp, y_samp, c_samp):\n",
    "        for step in range(self.iterations + 1):\n",
    "            avgCost = 0\n",
    "            for x, y, c in zip(x_samp, y_samp, c_samp):\n",
    "                inputs = np.expand_dims(np.asarray([x, y]), axis=1)\n",
    "                outputs = np.reshape([float(not (c)), float(c)], (1, 2))\n",
    "                avgCost += self.iterateTrainer(inputs, outputs) / len(x_samp)\n",
    "            if step % displaySteps == 0:\n",
    "                print(\"Step: {:4d}, Loss: {:.9f}\".format(step, avgCost))\n",
    "\n",
    "    # Finds probability that given a point x and y, it's from curve with class 1\n",
    "    def inferProb(self, x1, y1):\n",
    "        temp = np.expand_dims(np.asarray([x1, y1]), axis=1)\n",
    "        return self.sess.run(self.yhat, feed_dict={self.x: np.transpose(temp)})[0][1]\n",
    "\n",
    "    # Infers class from probability function\n",
    "    def inferClass(self, x1, y1):\n",
    "        return self.inferProb(x1, y1) > 0.5\n"
   ]
  },
  {
   "cell_type": "code",
   "execution_count": null,
   "metadata": {
    "collapsed": false
   },
   "outputs": [
    {
     "name": "stdout",
     "output_type": "stream",
     "text": [
      "Step:    0, Loss: 0.766119934\n"
     ]
    }
   ],
   "source": [
    "x_samp, y_samp, c_samp = data(numSamp)\n",
    "x_test, y_test, c_test = data(numTest)\n",
    "\n",
    "sess = tf.Session()\n",
    "\n",
    "model = MultiLayerPercepModel(sess=sess, layers=layers, iterations=runs, learnRate=rateLearn, gamma=regConst)\n",
    "model.initTrainer()\n",
    "model.train(x_samp, y_samp, c_samp)\n",
    "\n",
    "infer = np.array([])\n",
    "\n",
    "for x, y, _ in zip(x_test, y_test, c_test):\n",
    "    infer = np.append(infer, model.inferClass(x, y))\n",
    "\n",
    "\n",
    "# Thanks to Sahil Patel for hinting me towards contours\n",
    "domain = np.arange(-7, 7, 0.1)\n",
    "x_cont, y_cont = np.meshgrid(domain, domain)\n",
    "prob = np.vectorize(model.inferProb)\n",
    "z_cont = prob(x_cont, y_cont)\n",
    "\n",
    "accuracy = np.sum(np.equal(c_test,infer))*100/numTest\n",
    "\n",
    "print(\"Accuracy: {}%\".format(accuracy))"
   ]
  },
  {
   "cell_type": "code",
   "execution_count": null,
   "metadata": {
    "collapsed": false
   },
   "outputs": [],
   "source": [
    "plt.figure()\n",
    "bound = plt.contour(x_cont, y_cont, z_cont, levels=[0.5])\n",
    "plt.clabel(bound, inline=1, fontsize=10)\n",
    "\n",
    "plt.xlabel('x')\n",
    "plt.ylabel('y', rotation=0)\n",
    "plt.title('Prediction with Accuracy {}%'.format(accuracy))\n",
    "plt.plot(x_test[infer == True], y_test[infer == True], 'ro', label='Phased (Class 1)')\n",
    "plt.plot(x_test[infer == False], y_test[infer == False], 'bo', label = 'Not Phased (Class 0) ')\n",
    "plt.legend(loc=9, bbox_to_anchor=(0.5,-0.2), ncol=3)\n",
    "plt.show()"
   ]
  },
  {
   "cell_type": "code",
   "execution_count": null,
   "metadata": {
    "collapsed": true
   },
   "outputs": [],
   "source": []
  }
 ],
 "metadata": {
  "anaconda-cloud": {},
  "kernelspec": {
   "display_name": "Python [conda root]",
   "language": "python",
   "name": "conda-root-py"
  },
  "language_info": {
   "codemirror_mode": {
    "name": "ipython",
    "version": 3
   },
   "file_extension": ".py",
   "mimetype": "text/x-python",
   "name": "python",
   "nbconvert_exporter": "python",
   "pygments_lexer": "ipython3",
   "version": "3.5.2"
  }
 },
 "nbformat": 4,
 "nbformat_minor": 1
}
